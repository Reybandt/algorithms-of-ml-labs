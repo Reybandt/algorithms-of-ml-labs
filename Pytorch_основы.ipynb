{
  "nbformat": 4,
  "nbformat_minor": 0,
  "metadata": {
    "colab": {
      "name": "Копия блокнота \"test 7.1 pytorch tasks.ipynb\"",
      "provenance": [],
      "collapsed_sections": []
    },
    "kernelspec": {
      "display_name": "Python 3",
      "language": "python",
      "name": "python3"
    },
    "language_info": {
      "codemirror_mode": {
        "name": "ipython",
        "version": 3
      },
      "file_extension": ".py",
      "mimetype": "text/x-python",
      "name": "python",
      "nbconvert_exporter": "python",
      "pygments_lexer": "ipython3",
      "version": "3.6.5"
    },
    "accelerator": "GPU"
  },
  "cells": [
    {
      "cell_type": "markdown",
      "metadata": {
        "id": "vcnGdgw_YJ8u"
      },
      "source": [
        "# PyTorch. Основы: синтаксис, torch.cuda и torch.autograd\n",
        "\n",
        "## Задание 7.1"
      ]
    },
    {
      "cell_type": "code",
      "metadata": {
        "id": "RtyozNmmYJ89"
      },
      "source": [
        "import torch\n",
        "import matplotlib.pyplot as plt"
      ],
      "execution_count": null,
      "outputs": []
    },
    {
      "cell_type": "markdown",
      "metadata": {
        "id": "ny4-Qi2wYJ-6"
      },
      "source": [
        "### Задача 1"
      ]
    },
    {
      "cell_type": "markdown",
      "metadata": {
        "id": "IWxlFq0bYJ-_"
      },
      "source": [
        "1). Создайте два вещественных тензора: `a` размером (3, 4) и `b` размером (12,)   \n",
        "2). Создайте тензор `c`, являющийся тензором `b`, но размера (2, 2, 3)  \n",
        "3). Выведите первый столбец матрицы `a` с помощью индексации"
      ]
    },
    {
      "cell_type": "code",
      "metadata": {
        "id": "3oxZuk3yYJ_A",
        "colab": {
          "base_uri": "https://localhost:8080/"
        },
        "outputId": "399e59dc-7093-45b3-94af-d848d4beb155"
      },
      "source": [
        "a = torch.FloatTensor(3, 4)\r\n",
        "b = torch.FloatTensor(12, 1)\r\n",
        "c = b.view(2, 2, 3)\r\n",
        "a[:, 0]"
      ],
      "execution_count": null,
      "outputs": [
        {
          "output_type": "execute_result",
          "data": {
            "text/plain": [
              "tensor([1.1606e-35, 1.1330e-36, 1.1322e-36])"
            ]
          },
          "metadata": {
            "tags": []
          },
          "execution_count": 7
        }
      ]
    },
    {
      "cell_type": "markdown",
      "metadata": {
        "id": "D2IP_FrKYKAA"
      },
      "source": [
        "### Задача 2"
      ]
    },
    {
      "cell_type": "markdown",
      "metadata": {
        "id": "tBZFbSYQYKAA"
      },
      "source": [
        "1). Создайте два вещественных тензора: `a` размером (5, 2) и `b` размером (1,10)   \n",
        "2). Создайте тензор `c`, являющийся тензором `b`, но размера (5, 2)  \n",
        "3). Произведите все арифметические операции с тензорами `a` и `c`"
      ]
    },
    {
      "cell_type": "code",
      "metadata": {
        "id": "hzs2bH3GYKAB"
      },
      "source": [
        "a = torch.FloatTensor(5, 2)\r\n",
        "b = torch.FloatTensor(1, 10)\r\n",
        "c = b.view(5, 2)"
      ],
      "execution_count": null,
      "outputs": []
    },
    {
      "cell_type": "code",
      "metadata": {
        "colab": {
          "base_uri": "https://localhost:8080/"
        },
        "id": "os1KmzfSHnTe",
        "outputId": "819c7cea-ea82-4248-d6e0-f4fe0548a2d4"
      },
      "source": [
        "a.add(c)"
      ],
      "execution_count": null,
      "outputs": [
        {
          "output_type": "execute_result",
          "data": {
            "text/plain": [
              "tensor([[1.2950e-35, 0.0000e+00],\n",
              "        [8.8282e-44, 0.0000e+00],\n",
              "        [       nan, 0.0000e+00],\n",
              "        [2.7521e-14, 1.8369e+28],\n",
              "        [4.3066e+21, 1.1824e+22]])"
            ]
          },
          "metadata": {
            "tags": []
          },
          "execution_count": 4
        }
      ]
    },
    {
      "cell_type": "code",
      "metadata": {
        "colab": {
          "base_uri": "https://localhost:8080/"
        },
        "id": "Fg3pjLVqHnW6",
        "outputId": "bb429c86-f5e7-438a-d3c9-293757e9bec9"
      },
      "source": [
        "a.sub(c)"
      ],
      "execution_count": null,
      "outputs": [
        {
          "output_type": "execute_result",
          "data": {
            "text/plain": [
              "tensor([[ 0.0000e+00,  0.0000e+00],\n",
              "        [ 1.2612e-44,  0.0000e+00],\n",
              "        [        nan,  0.0000e+00],\n",
              "        [ 5.4643e-17,  1.8369e+28],\n",
              "        [-4.3066e+21, -1.1824e+22]])"
            ]
          },
          "metadata": {
            "tags": []
          },
          "execution_count": 5
        }
      ]
    },
    {
      "cell_type": "code",
      "metadata": {
        "colab": {
          "base_uri": "https://localhost:8080/"
        },
        "id": "xW4M_qxWHnbC",
        "outputId": "3f12d9dc-933a-48bb-af4a-57e3dc20c9e3"
      },
      "source": [
        "a.mul(c)"
      ],
      "execution_count": null,
      "outputs": [
        {
          "output_type": "execute_result",
          "data": {
            "text/plain": [
              "tensor([[0.0000e+00, 0.0000e+00],\n",
              "        [0.0000e+00, 0.0000e+00],\n",
              "        [       nan, 0.0000e+00],\n",
              "        [1.8935e-28, 1.1769e+31],\n",
              "        [8.3692e+02, 3.9893e+10]])"
            ]
          },
          "metadata": {
            "tags": []
          },
          "execution_count": 6
        }
      ]
    },
    {
      "cell_type": "code",
      "metadata": {
        "colab": {
          "base_uri": "https://localhost:8080/"
        },
        "id": "HhktsacyHqjo",
        "outputId": "cd51e2a0-602f-4892-8455-9fba2b0105e0"
      },
      "source": [
        "a.div(c)"
      ],
      "execution_count": null,
      "outputs": [
        {
          "output_type": "execute_result",
          "data": {
            "text/plain": [
              "tensor([[1.0000e+00,        nan],\n",
              "        [1.3333e+00,        nan],\n",
              "        [       nan,        nan],\n",
              "        [1.0040e+00, 2.8670e+25],\n",
              "        [4.5125e-41, 2.8533e-34]])"
            ]
          },
          "metadata": {
            "tags": []
          },
          "execution_count": 7
        }
      ]
    },
    {
      "cell_type": "markdown",
      "metadata": {
        "id": "rIaroFO6YKBT"
      },
      "source": [
        "### Задача 3"
      ]
    },
    {
      "cell_type": "markdown",
      "metadata": {
        "id": "GfLHVvKvYKBT"
      },
      "source": [
        "1). Создайте тензор *целых чисел* `images` размерности (100, 200, 200, 3) (можно интерпретировать это как 100 картинок размера 200х200 с тремя цветовыми каналами, то есть 100 цветных изображений 200х200). Заполните его нулями  \n",
        "\n",
        "2). Сделайте так, чтобы у $i$-ой по порядку картинки была нарисована белая полоса толщиной два пикселя в строках, которые соответствуют номеру картинки. Например, у 3-ей по порядку картинки белая полоска будет занимать 6 и 7 строки, у 99 - 198 и 199. Сделать белую строку можно, записав в ячейки тензора число 255 (по всем трём каналам). Выведите несколько примеров с помощью `pyplot`  \n",
        "\n",
        "3). Посчитайте среднее тензора `images` по 1-ой оси (по сути - средняя картинка), умножьте полученный тензор на 70. Нарисуйте с помощью `pyplot`, должна получиться серая картинка (при взятии среднего нужно привести тензор к float с помощью `.float()`, при отрисовке обратно к int с помощью `.int()`)"
      ]
    },
    {
      "cell_type": "code",
      "metadata": {
        "id": "pZVGHEQQYKBU"
      },
      "source": [
        "# 1\r\n",
        "images = torch.IntTensor(100, 200, 200, 3).zero_()"
      ],
      "execution_count": null,
      "outputs": []
    },
    {
      "cell_type": "code",
      "metadata": {
        "colab": {
          "base_uri": "https://localhost:8080/",
          "height": 239
        },
        "id": "mF6G-4lGtTcb",
        "outputId": "522c3641-ff0b-4240-c592-bad71ec2705e"
      },
      "source": [
        "# 2\r\n",
        "for i in range(len(images)):\r\n",
        "    images[i, i*2:i*2+2, :, :] = 255\r\n",
        "\r\n",
        "fig, axs = plt.subplots(1, 5, figsize=(20, 4))\r\n",
        "for ax, i in zip(axs, torch.randint(100, (5,))):\r\n",
        "    ax.imshow(images[i])\r\n",
        "    ax.axis('off')\r\n",
        "    ax.set_title(f'Изображение №{i.item()}')\r\n",
        "plt.show()"
      ],
      "execution_count": null,
      "outputs": [
        {
          "output_type": "display_data",
          "data": {
            "image/png": "[encoded data removed]",
            "text/plain": [
              "<Figure size 1440x288 with 5 Axes>"
            ]
          },
          "metadata": {
            "tags": [],
            "needs_background": "light"
          }
        }
      ]
    },
    {
      "cell_type": "code",
      "metadata": {
        "colab": {
          "base_uri": "https://localhost:8080/",
          "height": 264
        },
        "id": "8n88UByUtexW",
        "outputId": "38fc7735-f7ad-4fc6-ff1c-51eb118c8c28"
      },
      "source": [
        "# 3\r\n",
        "imgs_mean = images.float().mean(0)\r\n",
        "\r\n",
        "plt.imshow(imgs_mean.int() * 70)\r\n",
        "plt.axis('off')\r\n",
        "plt.title('Средняя картинка')\r\n",
        "plt.show()"
      ],
      "execution_count": null,
      "outputs": [
        {
          "output_type": "display_data",
          "data": {
            "image/png": "[encoded data removed]",
            "text/plain": [
              "<Figure size 432x288 with 1 Axes>"
            ]
          },
          "metadata": {
            "tags": [],
            "needs_background": "light"
          }
        }
      ]
    },
    {
      "cell_type": "markdown",
      "metadata": {
        "id": "oQnhq5ZdYKCu"
      },
      "source": [
        "### Задача 4"
      ]
    },
    {
      "cell_type": "markdown",
      "metadata": {
        "id": "UB95BhgTYKCu"
      },
      "source": [
        "- В Colab нажмите в меню сверху: `Runtime` -> `Change Runtime Type` -> `GPU`, где изначально стоит `None` (`Среда выполнение` - `Сменить среду выполнения`)\n",
        "- Объявите тензор `a` размера (2, 3, 4) и тензор `b` размера (1, 8, 3) на GPU, иницилизируйте их случайно равномерно (`.uniform_()`)\n",
        "- Затем измените форму тензора `b`, чтобы она совпадала с формой тензора `a`, получите тензор `c`  \n",
        "- Переместите `c` на CPU, переместите `a` на CPU  \n",
        "- Оберните их в `Variable()`\n",
        "- Объявите тензор `L = torch.mean((c - a) `**` 2)` и посчитайте градиент `L` по `c` ( то есть $\\frac{\\partial{L}}{\\partial{c}})$\n",
        "- Выведите градиент `L` по `c`"
      ]
    },
    {
      "cell_type": "code",
      "metadata": {
        "id": "WESOm5TCYKCv",
        "colab": {
          "base_uri": "https://localhost:8080/"
        },
        "outputId": "8fb4f88b-b0de-4819-e08d-762e007abef1"
      },
      "source": [
        "from torch.autograd import Variable\r\n",
        "\r\n",
        "a = torch.Tensor(2, 3, 4).uniform_()\r\n",
        "a.cuda()\r\n",
        "b = torch.Tensor(1, 8, 3).uniform_()\r\n",
        "b.cuda()\r\n",
        "c = b.view(2, 3, 4)\r\n",
        "c.cpu()\r\n",
        "a.cpu()\r\n",
        "\r\n",
        "a = Variable(a, requires_grad=True)\r\n",
        "c = Variable(c, requires_grad=True)\r\n",
        "L = torch.mean((c - a) ** 2)\r\n",
        "L.backward()\r\n",
        "\r\n",
        "print(c.grad)"
      ],
      "execution_count": null,
      "outputs": [
        {
          "output_type": "stream",
          "text": [
            "tensor([[[-0.0231, -0.0310,  0.0010, -0.0636],\n",
            "         [-0.0412,  0.0607,  0.0616, -0.0383],\n",
            "         [ 0.0345, -0.0461,  0.0476, -0.0464]],\n",
            "\n",
            "        [[ 0.0166,  0.0485,  0.0203, -0.0293],\n",
            "         [ 0.0547,  0.0480,  0.0039,  0.0184],\n",
            "         [-0.0090,  0.0298,  0.0028, -0.0372]]])\n"
          ],
          "name": "stdout"
        }
      ]
    }
  ]
}