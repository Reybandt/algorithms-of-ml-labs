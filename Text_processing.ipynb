{
  "nbformat": 4,
  "nbformat_minor": 0,
  "metadata": {
    "kernelspec": {
      "display_name": "Python 3",
      "language": "python",
      "name": "python3"
    },
    "language_info": {
      "codemirror_mode": {
        "name": "ipython",
        "version": 3
      },
      "file_extension": ".py",
      "mimetype": "text/x-python",
      "name": "python",
      "nbconvert_exporter": "python",
      "pygments_lexer": "ipython3",
      "version": "3.5.2"
    },
    "colab": {
      "name": "\"Text_processing_lab_№_5.ipynb\"",
      "provenance": [],
      "collapsed_sections": []
    }
  },
  "cells": [
    {
      "cell_type": "markdown",
      "metadata": {
        "id": "dnA9Os-0NSB3"
      },
      "source": [
        "### Импортируем нужные библиотеки"
      ]
    },
    {
      "cell_type": "code",
      "metadata": {
        "id": "uAFRtU-SNQB9"
      },
      "source": [
        "import warnings\n",
        "warnings.filterwarnings('ignore')\n",
        "\n",
        "import pandas as pd\n",
        "import numpy as np\n",
        "\n",
        "from sklearn.metrics import * \n",
        "from sklearn.model_selection import train_test_split "
      ],
      "execution_count": null,
      "outputs": []
    },
    {
      "cell_type": "markdown",
      "metadata": {
        "id": "FXIc_WoXNYqk"
      },
      "source": [
        "### Загружаем и считываем данные"
      ]
    },
    {
      "cell_type": "code",
      "metadata": {
        "id": "csvI9lmANd0x",
        "colab": {
          "resources": {
            "http://localhost:8080/nbextensions/google.colab/files.js": {
              "data": "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",
              "ok": true,
              "headers": [
                [
                  "content-type",
                  "application/javascript"
                ]
              ],
              "status": 200,
              "status_text": ""
            }
          },
          "base_uri": "https://localhost:8080/",
          "height": 38
        },
        "outputId": "bd5ed6cb-c0d3-4037-da15-669e46ae65cd"
      },
      "source": [
        "from google.colab import files\n",
        "uploaded = files.upload()"
      ],
      "execution_count": null,
      "outputs": [
        {
          "output_type": "display_data",
          "data": {
            "text/html": [
              "\n",
              "     <input type=\"file\" id=\"files-123d0a35-0125-4efa-bf6c-d4509fa7e274\" name=\"files[]\" multiple disabled\n",
              "        style=\"border:none\" />\n",
              "     <output id=\"result-123d0a35-0125-4efa-bf6c-d4509fa7e274\">\n",
              "      Upload widget is only available when the cell has been executed in the\n",
              "      current browser session. Please rerun this cell to enable.\n",
              "      </output>\n",
              "      <script src=\"/nbextensions/google.colab/files.js\"></script> "
            ],
            "text/plain": [
              "<IPython.core.display.HTML object>"
            ]
          },
          "metadata": {
            "tags": []
          }
        }
      ]
    },
    {
      "cell_type": "code",
      "metadata": {
        "id": "I7tdYh8wFfxA"
      },
      "source": [
        "data = pd.read_csv('women-clothing-accessories.csv', sep='\\t', usecols=[0, 1])"
      ],
      "execution_count": null,
      "outputs": []
    },
    {
      "cell_type": "code",
      "metadata": {
        "colab": {
          "base_uri": "https://localhost:8080/",
          "height": 204
        },
        "id": "SB8_quvdFnfK",
        "outputId": "407892c6-67a4-43f1-840a-dd6a8ae9e6ad"
      },
      "source": [
        "data.head()"
      ],
      "execution_count": null,
      "outputs": [
        {
          "output_type": "execute_result",
          "data": {
            "text/html": [
              "<div>\n",
              "<style scoped>\n",
              "    .dataframe tbody tr th:only-of-type {\n",
              "        vertical-align: middle;\n",
              "    }\n",
              "\n",
              "    .dataframe tbody tr th {\n",
              "        vertical-align: top;\n",
              "    }\n",
              "\n",
              "    .dataframe thead th {\n",
              "        text-align: right;\n",
              "    }\n",
              "</style>\n",
              "<table border=\"1\" class=\"dataframe\">\n",
              "  <thead>\n",
              "    <tr style=\"text-align: right;\">\n",
              "      <th></th>\n",
              "      <th>review</th>\n",
              "      <th>sentiment</th>\n",
              "    </tr>\n",
              "  </thead>\n",
              "  <tbody>\n",
              "    <tr>\n",
              "      <th>0</th>\n",
              "      <td>качество плохое пошив ужасный (горловина напер...</td>\n",
              "      <td>negative</td>\n",
              "    </tr>\n",
              "    <tr>\n",
              "      <th>1</th>\n",
              "      <td>Товар отдали другому человеку, я не получила п...</td>\n",
              "      <td>negative</td>\n",
              "    </tr>\n",
              "    <tr>\n",
              "      <th>2</th>\n",
              "      <td>Ужасная синтетика! Тонкая, ничего общего с пре...</td>\n",
              "      <td>negative</td>\n",
              "    </tr>\n",
              "    <tr>\n",
              "      <th>3</th>\n",
              "      <td>товар не пришел, продавец продлил защиту без м...</td>\n",
              "      <td>negative</td>\n",
              "    </tr>\n",
              "    <tr>\n",
              "      <th>4</th>\n",
              "      <td>Кофточка голая синтетика, носить не возможно.</td>\n",
              "      <td>negative</td>\n",
              "    </tr>\n",
              "  </tbody>\n",
              "</table>\n",
              "</div>"
            ],
            "text/plain": [
              "                                              review sentiment\n",
              "0  качество плохое пошив ужасный (горловина напер...  negative\n",
              "1  Товар отдали другому человеку, я не получила п...  negative\n",
              "2  Ужасная синтетика! Тонкая, ничего общего с пре...  negative\n",
              "3  товар не пришел, продавец продлил защиту без м...  negative\n",
              "4      Кофточка голая синтетика, носить не возможно.  negative"
            ]
          },
          "metadata": {
            "tags": []
          },
          "execution_count": 41
        }
      ]
    },
    {
      "cell_type": "code",
      "metadata": {
        "id": "yQkWHsrvJjv0"
      },
      "source": [
        "X_train, X_test, y_train, y_test = train_test_split(data.review, data.sentiment, train_size = 0.7)"
      ],
      "execution_count": null,
      "outputs": []
    },
    {
      "cell_type": "markdown",
      "metadata": {
        "id": "B0phBezbNe_O"
      },
      "source": [
        "### Предобрабатываем их"
      ]
    },
    {
      "cell_type": "markdown",
      "metadata": {
        "id": "dkelDStpMykZ"
      },
      "source": [
        "#### Приведение к нижнему регистру"
      ]
    },
    {
      "cell_type": "code",
      "metadata": {
        "colab": {
          "base_uri": "https://localhost:8080/",
          "height": 35
        },
        "id": "efuga54JM_wc",
        "outputId": "b71c1191-123f-40b7-9ebd-0618a26b9793"
      },
      "source": [
        "X_train.iloc[0]"
      ],
      "execution_count": null,
      "outputs": [
        {
          "output_type": "execute_result",
          "data": {
            "application/vnd.google.colaboratory.intrinsic+json": {
              "type": "string"
            },
            "text/plain": [
              "'Товар так и не пришел по заявленному сроку доставки!Буду пытаться вернуть деньги или ждать пока товар отправят по новой.'"
            ]
          },
          "metadata": {
            "tags": []
          },
          "execution_count": 23
        }
      ]
    },
    {
      "cell_type": "code",
      "metadata": {
        "id": "qrq-RlZdMzpC"
      },
      "source": [
        "#Для обучающей выборки\n",
        "X_train_to_lower_case = [sentence.lower() for sentence in X_train]"
      ],
      "execution_count": null,
      "outputs": []
    },
    {
      "cell_type": "code",
      "metadata": {
        "colab": {
          "base_uri": "https://localhost:8080/",
          "height": 35
        },
        "id": "UHGku2YpMzrO",
        "outputId": "9ee8bac7-b382-4b35-97b2-a97da5d3ee5c"
      },
      "source": [
        "X_train_to_lower_case[0]"
      ],
      "execution_count": null,
      "outputs": [
        {
          "output_type": "execute_result",
          "data": {
            "application/vnd.google.colaboratory.intrinsic+json": {
              "type": "string"
            },
            "text/plain": [
              "'товар так и не пришел по заявленному сроку доставки!буду пытаться вернуть деньги или ждать пока товар отправят по новой.'"
            ]
          },
          "metadata": {
            "tags": []
          },
          "execution_count": 25
        }
      ]
    },
    {
      "cell_type": "code",
      "metadata": {
        "id": "ycSgeDjCMzvA"
      },
      "source": [
        "#Для тестовой выборки\n",
        "X_test_to_lower_case = [sentence.lower() for sentence in X_test]"
      ],
      "execution_count": null,
      "outputs": []
    },
    {
      "cell_type": "markdown",
      "metadata": {
        "id": "rRMi5jVuNoso"
      },
      "source": [
        "#### Токенизация"
      ]
    },
    {
      "cell_type": "code",
      "metadata": {
        "id": "wndnH2zjNm76"
      },
      "source": [
        "import nltk # уже знакомая нам библиотека nltk\n",
        "from nltk.tokenize import word_tokenize # готовый токенизатор библиотеки nltk"
      ],
      "execution_count": null,
      "outputs": []
    },
    {
      "cell_type": "code",
      "metadata": {
        "id": "78vrA3HIKFUG"
      },
      "source": [
        "#Токенизируем обучающую выборку\n",
        "X_train_tokenized = [word_tokenize(sentence) for sentence in X_train_to_lower_case]"
      ],
      "execution_count": null,
      "outputs": []
    },
    {
      "cell_type": "code",
      "metadata": {
        "id": "vpGhj75QKxh6"
      },
      "source": [
        "#Токенизируем тестовую выборку\n",
        "X_test_tokenized = [word_tokenize(sentence) for sentence in X_test_to_lower_case]"
      ],
      "execution_count": null,
      "outputs": []
    },
    {
      "cell_type": "code",
      "metadata": {
        "colab": {
          "base_uri": "https://localhost:8080/"
        },
        "id": "2XklOuIrLOoB",
        "outputId": "b3540ddf-f054-45bd-90bd-bf35bd936090"
      },
      "source": [
        "X_train_tokenized[0]"
      ],
      "execution_count": null,
      "outputs": [
        {
          "output_type": "execute_result",
          "data": {
            "text/plain": [
              "['товар',\n",
              " 'так',\n",
              " 'и',\n",
              " 'не',\n",
              " 'пришел',\n",
              " 'по',\n",
              " 'заявленному',\n",
              " 'сроку',\n",
              " 'доставки',\n",
              " '!',\n",
              " 'буду',\n",
              " 'пытаться',\n",
              " 'вернуть',\n",
              " 'деньги',\n",
              " 'или',\n",
              " 'ждать',\n",
              " 'пока',\n",
              " 'товар',\n",
              " 'отправят',\n",
              " 'по',\n",
              " 'новой',\n",
              " '.']"
            ]
          },
          "metadata": {
            "tags": []
          },
          "execution_count": 30
        }
      ]
    },
    {
      "cell_type": "markdown",
      "metadata": {
        "id": "X_QI4vVXLm8x"
      },
      "source": [
        "#### Удаление стоп-слов"
      ]
    },
    {
      "cell_type": "code",
      "metadata": {
        "colab": {
          "base_uri": "https://localhost:8080/"
        },
        "id": "nttMRttEMdP-",
        "outputId": "33a3745e-78a1-4c3a-cfbe-65edffdba704"
      },
      "source": [
        "nltk.download('stopwords')"
      ],
      "execution_count": null,
      "outputs": [
        {
          "output_type": "stream",
          "text": [
            "[nltk_data] Downloading package stopwords to /root/nltk_data...\n",
            "[nltk_data]   Unzipping corpora/stopwords.zip.\n"
          ],
          "name": "stdout"
        },
        {
          "output_type": "execute_result",
          "data": {
            "text/plain": [
              "True"
            ]
          },
          "metadata": {
            "tags": []
          },
          "execution_count": 31
        }
      ]
    },
    {
      "cell_type": "code",
      "metadata": {
        "id": "ygPT8vysLk0n"
      },
      "source": [
        "from nltk.corpus import stopwords"
      ],
      "execution_count": null,
      "outputs": []
    },
    {
      "cell_type": "code",
      "metadata": {
        "colab": {
          "base_uri": "https://localhost:8080/"
        },
        "id": "15Mvv_6-L_E1",
        "outputId": "9e077b44-612e-40a4-8f60-1cc9fcb59167"
      },
      "source": [
        "print(stopwords.words(\"russian\"))"
      ],
      "execution_count": null,
      "outputs": [
        {
          "output_type": "stream",
          "text": [
            "['и', 'в', 'во', 'не', 'что', 'он', 'на', 'я', 'с', 'со', 'как', 'а', 'то', 'все', 'она', 'так', 'его', 'но', 'да', 'ты', 'к', 'у', 'же', 'вы', 'за', 'бы', 'по', 'только', 'ее', 'мне', 'было', 'вот', 'от', 'меня', 'еще', 'нет', 'о', 'из', 'ему', 'теперь', 'когда', 'даже', 'ну', 'вдруг', 'ли', 'если', 'уже', 'или', 'ни', 'быть', 'был', 'него', 'до', 'вас', 'нибудь', 'опять', 'уж', 'вам', 'ведь', 'там', 'потом', 'себя', 'ничего', 'ей', 'может', 'они', 'тут', 'где', 'есть', 'надо', 'ней', 'для', 'мы', 'тебя', 'их', 'чем', 'была', 'сам', 'чтоб', 'без', 'будто', 'чего', 'раз', 'тоже', 'себе', 'под', 'будет', 'ж', 'тогда', 'кто', 'этот', 'того', 'потому', 'этого', 'какой', 'совсем', 'ним', 'здесь', 'этом', 'один', 'почти', 'мой', 'тем', 'чтобы', 'нее', 'сейчас', 'были', 'куда', 'зачем', 'всех', 'никогда', 'можно', 'при', 'наконец', 'два', 'об', 'другой', 'хоть', 'после', 'над', 'больше', 'тот', 'через', 'эти', 'нас', 'про', 'всего', 'них', 'какая', 'много', 'разве', 'три', 'эту', 'моя', 'впрочем', 'хорошо', 'свою', 'этой', 'перед', 'иногда', 'лучше', 'чуть', 'том', 'нельзя', 'такой', 'им', 'более', 'всегда', 'конечно', 'всю', 'между']\n"
          ],
          "name": "stdout"
        }
      ]
    },
    {
      "cell_type": "code",
      "metadata": {
        "id": "hH9BKPvkMaj3"
      },
      "source": [
        "#Удалим из списка стоп-слов явные отрицания, которые могут диаметрально поменять весь смысл отзыва \n",
        "stop_words = stopwords.words(\"russian\")\n",
        "words_to_delete = ['не', 'нет', 'ни', 'без', 'но']\n",
        "for word in words_to_delete:\n",
        "    stop_words.remove(word)"
      ],
      "execution_count": null,
      "outputs": []
    },
    {
      "cell_type": "code",
      "metadata": {
        "id": "evZ5GAZcX9h6"
      },
      "source": [
        "#Добавим к списку стоп-слов знаки препинания, тем самым сформировав шум\n",
        "punctuation_marks = ['.', ',', ':', '-', '\"', '\\'', '?', '!', ';', '...', '(', ')']\n",
        "noise = stop_words + punctuation_marks"
      ],
      "execution_count": null,
      "outputs": []
    },
    {
      "cell_type": "code",
      "metadata": {
        "id": "7Jd6BgXNMq4U"
      },
      "source": [
        "#Избавляемся от стоп-слов в обучающей выборке\n",
        "X_train_without_stop_words = [[] for _ in range(len(X_train_tokenized))]\n",
        "for i in range(len(X_train_tokenized)):\n",
        "    for word in X_train_tokenized[i]:\n",
        "        if word not in noise:\n",
        "            X_train_without_stop_words[i].append(word)"
      ],
      "execution_count": null,
      "outputs": []
    },
    {
      "cell_type": "code",
      "metadata": {
        "id": "ueR8qSDVO-vj"
      },
      "source": [
        "#Аналогично для тестовой выборки\n",
        "X_test_without_stop_words = [[] for _ in range(len(X_test_tokenized))]\n",
        "for i in range(len(X_test_tokenized)):\n",
        "    for word in X_test_tokenized[i]:\n",
        "        if word not in noise:\n",
        "            X_test_without_stop_words[i].append(word)"
      ],
      "execution_count": null,
      "outputs": []
    },
    {
      "cell_type": "code",
      "metadata": {
        "colab": {
          "base_uri": "https://localhost:8080/"
        },
        "id": "wbXkEUn9Zalq",
        "outputId": "d694c960-7d50-4eca-d81a-7a88dc972c13"
      },
      "source": [
        "X_train_without_stop_words[1]"
      ],
      "execution_count": null,
      "outputs": [
        {
          "output_type": "execute_result",
          "data": {
            "text/plain": [
              "['товар', 'хороший', 'но', 'две', 'резинки', 'друг', 'другу', 'склеились']"
            ]
          },
          "metadata": {
            "tags": []
          },
          "execution_count": 38
        }
      ]
    },
    {
      "cell_type": "markdown",
      "metadata": {
        "id": "mk0SoMoMVJx8"
      },
      "source": [
        "#### Лемматизация"
      ]
    },
    {
      "cell_type": "code",
      "metadata": {
        "colab": {
          "base_uri": "https://localhost:8080/"
        },
        "id": "GFP1ppGCWg2P",
        "outputId": "a1609d28-74e4-411f-e35f-3f9152d9b7ea"
      },
      "source": [
        "!pip install pymorphy2"
      ],
      "execution_count": null,
      "outputs": [
        {
          "output_type": "stream",
          "text": [
            "Collecting pymorphy2\n",
            "\u001b[?25l  Downloading https://files.pythonhosted.org/packages/07/57/b2ff2fae3376d4f3c697b9886b64a54b476e1a332c67eee9f88e7f1ae8c9/pymorphy2-0.9.1-py3-none-any.whl (55kB)\n",
            "\u001b[K     |████████████████████████████████| 61kB 2.9MB/s \n",
            "\u001b[?25hCollecting dawg-python>=0.7.1\n",
            "  Downloading https://files.pythonhosted.org/packages/6a/84/ff1ce2071d4c650ec85745766c0047ccc3b5036f1d03559fd46bb38b5eeb/DAWG_Python-0.7.2-py2.py3-none-any.whl\n",
            "Collecting pymorphy2-dicts-ru<3.0,>=2.4\n",
            "\u001b[?25l  Downloading https://files.pythonhosted.org/packages/3a/79/bea0021eeb7eeefde22ef9e96badf174068a2dd20264b9a378f2be1cdd9e/pymorphy2_dicts_ru-2.4.417127.4579844-py2.py3-none-any.whl (8.2MB)\n",
            "\u001b[K     |████████████████████████████████| 8.2MB 8.6MB/s \n",
            "\u001b[?25hRequirement already satisfied: docopt>=0.6 in /usr/local/lib/python3.6/dist-packages (from pymorphy2) (0.6.2)\n",
            "Installing collected packages: dawg-python, pymorphy2-dicts-ru, pymorphy2\n",
            "Successfully installed dawg-python-0.7.2 pymorphy2-0.9.1 pymorphy2-dicts-ru-2.4.417127.4579844\n"
          ],
          "name": "stdout"
        }
      ]
    },
    {
      "cell_type": "code",
      "metadata": {
        "id": "jRqfIDMqbGcX"
      },
      "source": [
        "from pymorphy2 import MorphAnalyzer\n",
        "pymorphy2_analyzer = MorphAnalyzer()"
      ],
      "execution_count": null,
      "outputs": []
    },
    {
      "cell_type": "code",
      "metadata": {
        "id": "GAMAMkcvbIYe"
      },
      "source": [
        "#Проводим лемматизацию для обучающей выборки\n",
        "X_train_lemmatized = [[] for _ in range(len(X_train_without_stop_words))]\n",
        "for i in range(len(X_train_without_stop_words)):\n",
        "    for word in X_train_without_stop_words[i]:\n",
        "            X_train_lemmatized[i].append(pymorphy2_analyzer.parse(word)[0].normal_form)"
      ],
      "execution_count": null,
      "outputs": []
    },
    {
      "cell_type": "code",
      "metadata": {
        "id": "n0yclTEbdc-7"
      },
      "source": [
        "#Проводим лемматизацию для тестовой выборки\n",
        "X_test_lemmatized = [[] for _ in range(len(X_test_without_stop_words))]\n",
        "for i in range(len(X_test_without_stop_words)):\n",
        "    for word in X_test_without_stop_words[i]:\n",
        "            X_test_lemmatized[i].append(pymorphy2_analyzer.parse(word)[0].normal_form)"
      ],
      "execution_count": null,
      "outputs": []
    },
    {
      "cell_type": "code",
      "metadata": {
        "colab": {
          "base_uri": "https://localhost:8080/"
        },
        "id": "JsB57PxpecGs",
        "outputId": "fc757526-c0ca-4bc0-bed3-dae289e777c8"
      },
      "source": [
        "#До лемматизации\n",
        "X_train_without_stop_words[12]"
      ],
      "execution_count": null,
      "outputs": [
        {
          "output_type": "execute_result",
          "data": {
            "text/plain": [
              "['швы', 'не', 'ровные', 'сидит', 'плохо']"
            ]
          },
          "metadata": {
            "tags": []
          },
          "execution_count": 55
        }
      ]
    },
    {
      "cell_type": "code",
      "metadata": {
        "colab": {
          "base_uri": "https://localhost:8080/"
        },
        "id": "UoLbOunYdJem",
        "outputId": "a8c98660-0796-479e-f953-95c718edf58c"
      },
      "source": [
        "#После лемматизации\n",
        "X_train_lemmatized[12]"
      ],
      "execution_count": null,
      "outputs": [
        {
          "output_type": "execute_result",
          "data": {
            "text/plain": [
              "['шов', 'не', 'ровный', 'сидеть', 'плохо']"
            ]
          },
          "metadata": {
            "tags": []
          },
          "execution_count": 56
        }
      ]
    },
    {
      "cell_type": "markdown",
      "metadata": {
        "id": "ehRTZdqFoKVl"
      },
      "source": [
        "### Векторизация"
      ]
    },
    {
      "cell_type": "markdown",
      "metadata": {
        "id": "14l3P_VboPiu"
      },
      "source": [
        "#### Мешок n-грамм"
      ]
    },
    {
      "cell_type": "code",
      "metadata": {
        "id": "QC6DQwY7eWrS"
      },
      "source": [
        "from sklearn.feature_extraction.text import CountVectorizer\n",
        "from sklearn.naive_bayes import MultinomialNB"
      ],
      "execution_count": null,
      "outputs": []
    },
    {
      "cell_type": "code",
      "metadata": {
        "id": "zD37p-RSrkLs"
      },
      "source": [
        "#Прдеставим наши выборки в виде, понятном для векторизаторов\n",
        "X_train_preprocessed = pd.Series([str(row).strip('[]') for row in X_train_lemmatized])\n",
        "X_test_preprocessed = pd.Series([str(row).strip('[]') for row in X_test_lemmatized])"
      ],
      "execution_count": null,
      "outputs": []
    },
    {
      "cell_type": "code",
      "metadata": {
        "colab": {
          "base_uri": "https://localhost:8080/"
        },
        "id": "7UXHhPoLr3cX",
        "outputId": "de7adb32-f4bf-451a-a0ef-1fb5d95cabc9"
      },
      "source": [
        "X_train_preprocessed"
      ],
      "execution_count": null,
      "outputs": [
        {
          "output_type": "execute_result",
          "data": {
            "text/plain": [
              "0        'товар', 'не', 'прийти', 'заявить', 'срок', 'д...\n",
              "1        'товар', 'хороший', 'но', 'два', 'резинка', 'д...\n",
              "2        'отличный', 'свитер', 'фото', 'спасибо', 'прод...\n",
              "3        'ткань', 'плотный', 'не', 'не', 'радовать', 'п...\n",
              "4        'просто', 'шикарно', 'талия', 'село', 'идеальн...\n",
              "                               ...                        \n",
              "62994    'качество', 'ужасный', 'цвет', 'красить', 'тел...\n",
              "62995    'ранний', 'заказывать', 'тёплый', 'подойти', '...\n",
              "62996    'платье', 'описание', 'очень', 'понравиться', ...\n",
              "62997    'всё', 'кошка', 'иметь', 'зелёный', 'оттенок',...\n",
              "62998    'сложно', 'предъявлять', 'претензия', 'товар',...\n",
              "Length: 62999, dtype: object"
            ]
          },
          "metadata": {
            "tags": []
          },
          "execution_count": 59
        }
      ]
    },
    {
      "cell_type": "code",
      "metadata": {
        "id": "GXEqgnb2oo-h"
      },
      "source": [
        "#Начнем нашу классификацию с униграмм\n",
        "vectorizer1 = CountVectorizer(ngram_range=(1, 1), lowercase=False)"
      ],
      "execution_count": null,
      "outputs": []
    },
    {
      "cell_type": "code",
      "metadata": {
        "id": "qvDAODD6pX_Z"
      },
      "source": [
        "X_train_vectorized = vectorizer1.fit_transform(X_train_preprocessed)"
      ],
      "execution_count": null,
      "outputs": []
    },
    {
      "cell_type": "code",
      "metadata": {
        "colab": {
          "base_uri": "https://localhost:8080/"
        },
        "id": "0WExLyUPpa-J",
        "outputId": "56379667-69f2-4029-a437-9e78e8dd1c15"
      },
      "source": [
        "#Посмотрим на первые десять значений в словаре для отображения слов в их индексы\n",
        "list(vectorizer1.vocabulary_.items())[:10]"
      ],
      "execution_count": null,
      "outputs": [
        {
          "output_type": "execute_result",
          "data": {
            "text/plain": [
              "[('товар', 23896),\n",
              " ('не', 13388),\n",
              " ('прийти', 19076),\n",
              " ('заявить', 9527),\n",
              " ('срок', 23033),\n",
              " ('доставка', 8154),\n",
              " ('быть', 5497),\n",
              " ('пытаться', 20226),\n",
              " ('вернуть', 5712),\n",
              " ('деньга', 7644)]"
            ]
          },
          "metadata": {
            "tags": []
          },
          "execution_count": 62
        }
      ]
    },
    {
      "cell_type": "code",
      "metadata": {
        "colab": {
          "base_uri": "https://localhost:8080/"
        },
        "id": "slY5UHMbp3pn",
        "outputId": "e85719da-c500-4947-ba15-4f92b6452188"
      },
      "source": [
        "X_train_vectorized.shape"
      ],
      "execution_count": null,
      "outputs": [
        {
          "output_type": "execute_result",
          "data": {
            "text/plain": [
              "(62999, 26680)"
            ]
          },
          "metadata": {
            "tags": []
          },
          "execution_count": 63
        }
      ]
    },
    {
      "cell_type": "code",
      "metadata": {
        "colab": {
          "base_uri": "https://localhost:8080/"
        },
        "id": "kABaa6Wrp52H",
        "outputId": "5b6e8b09-b6f9-4166-9dbe-9b7c98f63dbf"
      },
      "source": [
        "X_train.shape"
      ],
      "execution_count": null,
      "outputs": [
        {
          "output_type": "execute_result",
          "data": {
            "text/plain": [
              "(62999,)"
            ]
          },
          "metadata": {
            "tags": []
          },
          "execution_count": 64
        }
      ]
    },
    {
      "cell_type": "code",
      "metadata": {
        "colab": {
          "base_uri": "https://localhost:8080/"
        },
        "id": "yGktbgPwrSTq",
        "outputId": "8e895238-4e31-4433-90e8-dafbc900bf47"
      },
      "source": [
        "clf = MultinomialNB()\n",
        "clf.fit(X_train_vectorized, y_train)"
      ],
      "execution_count": null,
      "outputs": [
        {
          "output_type": "execute_result",
          "data": {
            "text/plain": [
              "MultinomialNB(alpha=1.0, class_prior=None, fit_prior=True)"
            ]
          },
          "metadata": {
            "tags": []
          },
          "execution_count": 65
        }
      ]
    },
    {
      "cell_type": "code",
      "metadata": {
        "id": "b2dyS-XGs9w0"
      },
      "source": [
        "X_test_vectorized = vectorizer1.transform(X_test_preprocessed)"
      ],
      "execution_count": null,
      "outputs": []
    },
    {
      "cell_type": "code",
      "metadata": {
        "colab": {
          "base_uri": "https://localhost:8080/"
        },
        "id": "Zx4DVu7QtGxs",
        "outputId": "6e17ff41-9b85-4465-d354-98c741e8835d"
      },
      "source": [
        "pred1 = clf.predict(X_test_vectorized)\n",
        "print(classification_report(y_test, pred1))"
      ],
      "execution_count": null,
      "outputs": [
        {
          "output_type": "stream",
          "text": [
            "              precision    recall  f1-score   support\n",
            "\n",
            "    neautral       0.58      0.66      0.62      9057\n",
            "    negative       0.71      0.62      0.66      8969\n",
            "    positive       0.84      0.83      0.83      8975\n",
            "\n",
            "    accuracy                           0.70     27001\n",
            "   macro avg       0.71      0.70      0.71     27001\n",
            "weighted avg       0.71      0.70      0.71     27001\n",
            "\n"
          ],
          "name": "stdout"
        }
      ]
    },
    {
      "cell_type": "markdown",
      "metadata": {
        "id": "OJYphILjwiuo"
      },
      "source": [
        "Для удобства обзорного анализа векторизаторов напишем функцию-пайплайн, которая будет принимать векторизатор, классификатор и выводить результат"
      ]
    },
    {
      "cell_type": "code",
      "metadata": {
        "id": "n7eHi9shwpDU"
      },
      "source": [
        "def classification_report_by_vectorizer(vectorizer, classifier=clf, X_train=X_train_preprocessed, X_test=X_test_preprocessed):\n",
        "    X_train_vectorized = vectorizer.fit_transform(X_train)\n",
        "    classifier.fit(X_train_vectorized, y_train)\n",
        "    X_test_vectorized = vectorizer.transform(X_test)\n",
        "    pred = classifier.predict(X_test_vectorized)\n",
        "    print(classification_report(y_test, pred))"
      ],
      "execution_count": null,
      "outputs": []
    },
    {
      "cell_type": "markdown",
      "metadata": {
        "id": "5JG96eogxFw0"
      },
      "source": [
        "Сразу проверим, какой будет результат, если не удалять знаки препинания. Для этого повторим предыдущие шаги, убрав их из словаря стоп-слов."
      ]
    },
    {
      "cell_type": "code",
      "metadata": {
        "id": "xWPY0811wpOD"
      },
      "source": [
        "#Избавляемся от стоп-слов (знаки препинания оставляем) в обучающей выборке\n",
        "X_train_without_stop_words = [[] for _ in range(len(X_train_tokenized))]\n",
        "for i in range(len(X_train_tokenized)):\n",
        "    for word in X_train_tokenized[i]:\n",
        "        if word not in stop_words:\n",
        "            X_train_without_stop_words[i].append(word)"
      ],
      "execution_count": null,
      "outputs": []
    },
    {
      "cell_type": "code",
      "metadata": {
        "id": "gq35n3aWwpR8"
      },
      "source": [
        "#Аналогично для тестовой выборки\n",
        "X_test_without_stop_words = [[] for _ in range(len(X_test_tokenized))]\n",
        "for i in range(len(X_test_tokenized)):\n",
        "    for word in X_test_tokenized[i]:\n",
        "        if word not in stop_words:\n",
        "            X_test_without_stop_words[i].append(word)"
      ],
      "execution_count": null,
      "outputs": []
    },
    {
      "cell_type": "code",
      "metadata": {
        "colab": {
          "base_uri": "https://localhost:8080/"
        },
        "id": "p3W1RQz9zDpb",
        "outputId": "18c442ff-56de-42e7-d008-3152cf5e6c4e"
      },
      "source": [
        "X_train_without_stop_words[1]"
      ],
      "execution_count": null,
      "outputs": [
        {
          "output_type": "execute_result",
          "data": {
            "text/plain": [
              "['ткань',\n",
              " '-',\n",
              " 'чистая',\n",
              " 'синтетика',\n",
              " ',',\n",
              " 'тонкая',\n",
              " '.',\n",
              " 'такие',\n",
              " 'деньги',\n",
              " 'не',\n",
              " 'купила',\n",
              " '.',\n",
              " 'российский',\n",
              " 'размер',\n",
              " '44-46.',\n",
              " 'продавцом',\n",
              " 'не',\n",
              " 'общалась',\n",
              " '.']"
            ]
          },
          "metadata": {
            "tags": []
          },
          "execution_count": 234
        }
      ]
    },
    {
      "cell_type": "code",
      "metadata": {
        "id": "GyRutrJNygRk"
      },
      "source": [
        "#Проводим лемматизацию для обучающей выборки\n",
        "X_train_lemmatized = [[] for _ in range(len(X_train_without_stop_words))]\n",
        "for i in range(len(X_train_without_stop_words)):\n",
        "    for word in X_train_without_stop_words[i]:\n",
        "            X_train_lemmatized[i].append(pymorphy2_analyzer.parse(word)[0].normal_form)"
      ],
      "execution_count": null,
      "outputs": []
    },
    {
      "cell_type": "code",
      "metadata": {
        "id": "Kf8MnTnQygpz"
      },
      "source": [
        "#Проводим лемматизацию для тестовой выборки\n",
        "X_test_lemmatized = [[] for _ in range(len(X_test_without_stop_words))]\n",
        "for i in range(len(X_test_without_stop_words)):\n",
        "    for word in X_test_without_stop_words[i]:\n",
        "            X_test_lemmatized[i].append(pymorphy2_analyzer.parse(word)[0].normal_form)"
      ],
      "execution_count": null,
      "outputs": []
    },
    {
      "cell_type": "code",
      "metadata": {
        "id": "vwXUi2SRygPJ"
      },
      "source": [
        "X_train_preprocessed_with_punctuation = pd.Series([str(row).strip('[]') for row in X_train_lemmatized])\n",
        "X_test_preprocessed_with_punctuation = pd.Series([str(row).strip('[]') for row in X_test_lemmatized])"
      ],
      "execution_count": null,
      "outputs": []
    },
    {
      "cell_type": "code",
      "metadata": {
        "colab": {
          "base_uri": "https://localhost:8080/"
        },
        "id": "0WK4cP0WzBAZ",
        "outputId": "e0b457bd-49ab-401d-f671-e760d817c1f8"
      },
      "source": [
        "classification_report_by_vectorizer(vectorizer1, X_train=X_train_preprocessed_with_punctuation, X_test=X_test_preprocessed_with_punctuation)"
      ],
      "execution_count": null,
      "outputs": [
        {
          "output_type": "stream",
          "text": [
            "              precision    recall  f1-score   support\n",
            "\n",
            "    neautral       0.59      0.66      0.62      9044\n",
            "    negative       0.71      0.63      0.67      8975\n",
            "    positive       0.84      0.83      0.84      8982\n",
            "\n",
            "    accuracy                           0.71     27001\n",
            "   macro avg       0.71      0.71      0.71     27001\n",
            "weighted avg       0.71      0.71      0.71     27001\n",
            "\n"
          ],
          "name": "stdout"
        }
      ]
    },
    {
      "cell_type": "markdown",
      "metadata": {
        "id": "m4aYnkXRzBNr"
      },
      "source": [
        "Как мы видим, отсутствие/присутствие знаков препинания никак не повлияло на итоговый перфоманс классификатора в нашем примере."
      ]
    },
    {
      "cell_type": "code",
      "metadata": {
        "colab": {
          "base_uri": "https://localhost:8080/"
        },
        "id": "EEGz_-8g1rVq",
        "outputId": "f96cfc30-9c29-4874-b6cd-9caadf8b89de"
      },
      "source": [
        "#Теперь задействуем биграммы и посмотрим на результат\n",
        "vectorizer2 = CountVectorizer(ngram_range=(2, 2), lowercase=False)\n",
        "classification_report_by_vectorizer(vectorizer2)"
      ],
      "execution_count": null,
      "outputs": [
        {
          "output_type": "stream",
          "text": [
            "              precision    recall  f1-score   support\n",
            "\n",
            "    neautral       0.61      0.60      0.61      9044\n",
            "    negative       0.66      0.70      0.68      8975\n",
            "    positive       0.84      0.82      0.83      8982\n",
            "\n",
            "    accuracy                           0.71     27001\n",
            "   macro avg       0.71      0.71      0.71     27001\n",
            "weighted avg       0.71      0.71      0.71     27001\n",
            "\n"
          ],
          "name": "stdout"
        }
      ]
    },
    {
      "cell_type": "code",
      "metadata": {
        "colab": {
          "base_uri": "https://localhost:8080/"
        },
        "id": "1mEFndo5tSNL",
        "outputId": "e0b78d6c-3e9d-408a-8d0b-bcd12fd8eba6"
      },
      "source": [
        "#Теперь задействуем триграммы и посмотрим на результат\n",
        "vectorizer3 = CountVectorizer(ngram_range=(3, 3), lowercase=False)\n",
        "classification_report_by_vectorizer(vectorizer3)"
      ],
      "execution_count": null,
      "outputs": [
        {
          "output_type": "stream",
          "text": [
            "              precision    recall  f1-score   support\n",
            "\n",
            "    neautral       0.57      0.42      0.48      9044\n",
            "    negative       0.53      0.75      0.62      8975\n",
            "    positive       0.78      0.67      0.72      8982\n",
            "\n",
            "    accuracy                           0.61     27001\n",
            "   macro avg       0.63      0.61      0.61     27001\n",
            "weighted avg       0.63      0.61      0.61     27001\n",
            "\n"
          ],
          "name": "stdout"
        }
      ]
    },
    {
      "cell_type": "code",
      "metadata": {
        "colab": {
          "base_uri": "https://localhost:8080/"
        },
        "id": "nRGcmtyKuN6X",
        "outputId": "5d9352e2-c3db-419c-b3c1-2aa7d4481bb6"
      },
      "source": [
        "#Испытаем униграммы, биграммы и триграммы\n",
        "vectorizer4 = CountVectorizer(ngram_range=(1, 3), lowercase=False)\n",
        "classification_report_by_vectorizer(vectorizer4)"
      ],
      "execution_count": null,
      "outputs": [
        {
          "output_type": "stream",
          "text": [
            "              precision    recall  f1-score   support\n",
            "\n",
            "    neautral       0.62      0.65      0.64      9044\n",
            "    negative       0.71      0.69      0.70      8975\n",
            "    positive       0.87      0.85      0.86      8982\n",
            "\n",
            "    accuracy                           0.73     27001\n",
            "   macro avg       0.73      0.73      0.73     27001\n",
            "weighted avg       0.73      0.73      0.73     27001\n",
            "\n"
          ],
          "name": "stdout"
        }
      ]
    },
    {
      "cell_type": "markdown",
      "metadata": {
        "id": "JGEyjEBu0_f0"
      },
      "source": [
        "По векторизации методом мешком n-грамм можно сделать вывод о том, что совместное задействование униграмм, биграмм и триграмм в векторайзере дает наилучший результат."
      ]
    },
    {
      "cell_type": "markdown",
      "metadata": {
        "id": "5sQqRlIeu4_8"
      },
      "source": [
        "#### TF-IDF векторизация"
      ]
    },
    {
      "cell_type": "code",
      "metadata": {
        "id": "X2urLJHMukP-"
      },
      "source": [
        "from sklearn.feature_extraction.text import TfidfVectorizer"
      ],
      "execution_count": null,
      "outputs": []
    },
    {
      "cell_type": "code",
      "metadata": {
        "colab": {
          "base_uri": "https://localhost:8080/"
        },
        "id": "tW7G7hS6vFS0",
        "outputId": "52ade8cc-4349-4f56-8246-7ab870fc466f"
      },
      "source": [
        "#По классике начнем с униграмм и дефолтных настроек других гиперпараметров\n",
        "tfidf_vectorizer = TfidfVectorizer(ngram_range=(1, 1))\n",
        "classification_report_by_vectorizer(tfidf_vectorizer)"
      ],
      "execution_count": null,
      "outputs": [
        {
          "output_type": "stream",
          "text": [
            "              precision    recall  f1-score   support\n",
            "\n",
            "    neautral       0.58      0.67      0.62      9044\n",
            "    negative       0.71      0.62      0.66      8975\n",
            "    positive       0.83      0.81      0.82      8982\n",
            "\n",
            "    accuracy                           0.70     27001\n",
            "   macro avg       0.71      0.70      0.70     27001\n",
            "weighted avg       0.71      0.70      0.70     27001\n",
            "\n"
          ],
          "name": "stdout"
        }
      ]
    },
    {
      "cell_type": "code",
      "metadata": {
        "colab": {
          "base_uri": "https://localhost:8080/"
        },
        "id": "4A8pgkih2R8u",
        "outputId": "db77a07b-2e1b-433c-c7e3-262c058e1229"
      },
      "source": [
        "#Попробуем биграммы с тюнингом параметров порогов (max_df и min_df)\n",
        "tfidf_vectorizer = TfidfVectorizer(ngram_range=(2, 2), max_df=0.5, min_df=0.01)\n",
        "classification_report_by_vectorizer(tfidf_vectorizer)"
      ],
      "execution_count": null,
      "outputs": [
        {
          "output_type": "stream",
          "text": [
            "              precision    recall  f1-score   support\n",
            "\n",
            "    neautral       0.52      0.31      0.39      9044\n",
            "    negative       0.40      0.74      0.52      8975\n",
            "    positive       0.72      0.42      0.53      8982\n",
            "\n",
            "    accuracy                           0.49     27001\n",
            "   macro avg       0.55      0.49      0.48     27001\n",
            "weighted avg       0.55      0.49      0.48     27001\n",
            "\n"
          ],
          "name": "stdout"
        }
      ]
    },
    {
      "cell_type": "code",
      "metadata": {
        "colab": {
          "base_uri": "https://localhost:8080/"
        },
        "id": "uz7NPEM22fog",
        "outputId": "c2bb2d5b-42d5-4218-eeac-ac3c11cabea3"
      },
      "source": [
        "#Задействуем триграммы, еще уменьшив порог min_df, увеличив max_df и зададим max_features\n",
        "tfidf_vectorizer = TfidfVectorizer(ngram_range=(3, 3), max_df=0.9, min_df=0.001, max_features=100)\n",
        "classification_report_by_vectorizer(tfidf_vectorizer)"
      ],
      "execution_count": null,
      "outputs": [
        {
          "output_type": "stream",
          "text": [
            "              precision    recall  f1-score   support\n",
            "\n",
            "    neautral       0.50      0.14      0.21      9044\n",
            "    negative       0.34      0.86      0.49      8975\n",
            "    positive       0.63      0.12      0.21      8982\n",
            "\n",
            "    accuracy                           0.37     27001\n",
            "   macro avg       0.49      0.37      0.30     27001\n",
            "weighted avg       0.49      0.37      0.30     27001\n",
            "\n"
          ],
          "name": "stdout"
        }
      ]
    },
    {
      "cell_type": "code",
      "metadata": {
        "colab": {
          "base_uri": "https://localhost:8080/"
        },
        "id": "XSrIf4ZR7NGn",
        "outputId": "df1ba555-abaf-4c34-a5ea-038eaa0c99f3"
      },
      "source": [
        "#Увеличим ngram_range и max_features и посмотрим на перфоманс\n",
        "tfidf_vectorizer_best = TfidfVectorizer(ngram_range=(3, 6), max_df=0.95, min_df=0.001, max_features=1000)\n",
        "classification_report_by_vectorizer(tfidf_vectorizer_best)"
      ],
      "execution_count": null,
      "outputs": [
        {
          "output_type": "stream",
          "text": [
            "              precision    recall  f1-score   support\n",
            "\n",
            "    neautral       0.51      0.19      0.27      9044\n",
            "    negative       0.35      0.83      0.49      8975\n",
            "    positive       0.68      0.20      0.31      8982\n",
            "\n",
            "    accuracy                           0.40     27001\n",
            "   macro avg       0.52      0.40      0.36     27001\n",
            "weighted avg       0.52      0.40      0.36     27001\n",
            "\n"
          ],
          "name": "stdout"
        }
      ]
    },
    {
      "cell_type": "code",
      "metadata": {
        "colab": {
          "base_uri": "https://localhost:8080/"
        },
        "id": "yvVHwQL043SY",
        "outputId": "09abebc1-4e20-4229-cd50-6af0db009f4c"
      },
      "source": [
        "#Теперь перейдем к совместному использованию униграмм, биграмм и триграмм, уменьшив min_df и увеличив max_features до 10000\n",
        "tfidf_vectorizer_best = TfidfVectorizer(ngram_range=(1, 3), max_df=0.99, min_df=0.0001, max_features=10000)\n",
        "classification_report_by_vectorizer(tfidf_vectorizer_best)"
      ],
      "execution_count": null,
      "outputs": [
        {
          "output_type": "stream",
          "text": [
            "              precision    recall  f1-score   support\n",
            "\n",
            "    neautral       0.60      0.70      0.65      9044\n",
            "    negative       0.74      0.62      0.68      8975\n",
            "    positive       0.86      0.85      0.86      8982\n",
            "\n",
            "    accuracy                           0.72     27001\n",
            "   macro avg       0.73      0.72      0.73     27001\n",
            "weighted avg       0.73      0.72      0.73     27001\n",
            "\n"
          ],
          "name": "stdout"
        }
      ]
    },
    {
      "cell_type": "markdown",
      "metadata": {
        "id": "7s5KgSJY6q47"
      },
      "source": [
        "#### Символьные n-граммы"
      ]
    },
    {
      "cell_type": "code",
      "metadata": {
        "colab": {
          "base_uri": "https://localhost:8080/"
        },
        "id": "0cVQRzgv5bBc",
        "outputId": "4702fc9f-6271-458c-e962-7f719bfc2d85"
      },
      "source": [
        "#Униграмма\n",
        "char_vectorizer = CountVectorizer(analyzer='char', ngram_range=(1, 1))\n",
        "classification_report_by_vectorizer(char_vectorizer)"
      ],
      "execution_count": null,
      "outputs": [
        {
          "output_type": "stream",
          "text": [
            "              precision    recall  f1-score   support\n",
            "\n",
            "    neautral       0.44      0.57      0.50      9044\n",
            "    negative       0.58      0.51      0.54      8975\n",
            "    positive       0.62      0.51      0.56      8982\n",
            "\n",
            "    accuracy                           0.53     27001\n",
            "   macro avg       0.54      0.53      0.53     27001\n",
            "weighted avg       0.54      0.53      0.53     27001\n",
            "\n"
          ],
          "name": "stdout"
        }
      ]
    },
    {
      "cell_type": "code",
      "metadata": {
        "colab": {
          "base_uri": "https://localhost:8080/"
        },
        "id": "xKpYbIqa75FM",
        "outputId": "6b3ae2a4-d8e2-496d-a2ac-b15fa122b841"
      },
      "source": [
        "#Биграмма\n",
        "char_vectorizer = CountVectorizer(analyzer='char', ngram_range=(2, 2))\n",
        "classification_report_by_vectorizer(char_vectorizer)"
      ],
      "execution_count": null,
      "outputs": [
        {
          "output_type": "stream",
          "text": [
            "              precision    recall  f1-score   support\n",
            "\n",
            "    neautral       0.53      0.62      0.57      9044\n",
            "    negative       0.67      0.57      0.62      8975\n",
            "    positive       0.76      0.72      0.74      8982\n",
            "\n",
            "    accuracy                           0.64     27001\n",
            "   macro avg       0.65      0.64      0.64     27001\n",
            "weighted avg       0.65      0.64      0.64     27001\n",
            "\n"
          ],
          "name": "stdout"
        }
      ]
    },
    {
      "cell_type": "code",
      "metadata": {
        "colab": {
          "base_uri": "https://localhost:8080/"
        },
        "id": "ga6cMWtf8Aij",
        "outputId": "0ba50703-5ef4-4950-b530-8359e015ec06"
      },
      "source": [
        "#Триграмма\n",
        "char_vectorizer = CountVectorizer(analyzer='char', ngram_range=(3, 3))\n",
        "classification_report_by_vectorizer(char_vectorizer)"
      ],
      "execution_count": null,
      "outputs": [
        {
          "output_type": "stream",
          "text": [
            "              precision    recall  f1-score   support\n",
            "\n",
            "    neautral       0.56      0.68      0.62      9044\n",
            "    negative       0.70      0.59      0.64      8975\n",
            "    positive       0.83      0.79      0.81      8982\n",
            "\n",
            "    accuracy                           0.69     27001\n",
            "   macro avg       0.70      0.69      0.69     27001\n",
            "weighted avg       0.70      0.69      0.69     27001\n",
            "\n"
          ],
          "name": "stdout"
        }
      ]
    },
    {
      "cell_type": "code",
      "metadata": {
        "colab": {
          "base_uri": "https://localhost:8080/"
        },
        "id": "SFTjK8hp8EV7",
        "outputId": "0aeca369-8b3e-48df-b8c5-5bd3fb6bfe15"
      },
      "source": [
        "#Cовместное их использование\n",
        "char_vectorizer = CountVectorizer(analyzer='char', ngram_range=(1, 3))\n",
        "classification_report_by_vectorizer(char_vectorizer)"
      ],
      "execution_count": null,
      "outputs": [
        {
          "output_type": "stream",
          "text": [
            "              precision    recall  f1-score   support\n",
            "\n",
            "    neautral       0.55      0.67      0.61      9044\n",
            "    negative       0.69      0.58      0.63      8975\n",
            "    positive       0.82      0.77      0.79      8982\n",
            "\n",
            "    accuracy                           0.67     27001\n",
            "   macro avg       0.69      0.67      0.68     27001\n",
            "weighted avg       0.69      0.67      0.68     27001\n",
            "\n"
          ],
          "name": "stdout"
        }
      ]
    },
    {
      "cell_type": "code",
      "metadata": {
        "colab": {
          "base_uri": "https://localhost:8080/"
        },
        "id": "067FmuTB8dua",
        "outputId": "eccccaf6-1709-4640-f4b4-aca82e844d5a"
      },
      "source": [
        "#Другой диапазон ngram_range\n",
        "char_vectorizer = CountVectorizer(analyzer='char', ngram_range=(2, 5))\n",
        "classification_report_by_vectorizer(char_vectorizer)"
      ],
      "execution_count": null,
      "outputs": [
        {
          "output_type": "stream",
          "text": [
            "              precision    recall  f1-score   support\n",
            "\n",
            "    neautral       0.57      0.68      0.62      9044\n",
            "    negative       0.71      0.60      0.65      8975\n",
            "    positive       0.83      0.81      0.82      8982\n",
            "\n",
            "    accuracy                           0.69     27001\n",
            "   macro avg       0.71      0.69      0.70     27001\n",
            "weighted avg       0.70      0.69      0.70     27001\n",
            "\n"
          ],
          "name": "stdout"
        }
      ]
    },
    {
      "cell_type": "code",
      "metadata": {
        "colab": {
          "base_uri": "https://localhost:8080/"
        },
        "id": "urAKwqND8M7a",
        "outputId": "b0c9118b-ece1-4069-ee94-572e42ca5f5a"
      },
      "source": [
        "#Другой диапазон ngram_range с выборкой\n",
        "char_vectorizer_best = CountVectorizer(analyzer='char', ngram_range=(3, 8))\n",
        "classification_report_by_vectorizer(char_vectorizer_best)"
      ],
      "execution_count": null,
      "outputs": [
        {
          "output_type": "stream",
          "text": [
            "              precision    recall  f1-score   support\n",
            "\n",
            "    neautral       0.58      0.68      0.63      9044\n",
            "    negative       0.72      0.62      0.66      8975\n",
            "    positive       0.84      0.82      0.83      8982\n",
            "\n",
            "    accuracy                           0.71     27001\n",
            "   macro avg       0.71      0.71      0.71     27001\n",
            "weighted avg       0.71      0.71      0.71     27001\n",
            "\n"
          ],
          "name": "stdout"
        }
      ]
    },
    {
      "cell_type": "markdown",
      "metadata": {
        "id": "un5zsJ1k9AwS"
      },
      "source": [
        "Возьмем по лучшему векторизатору из 3-х семейств, представленных выше, и сформируем для них сравнительный датафрейм"
      ]
    },
    {
      "cell_type": "code",
      "metadata": {
        "id": "2VZz4-7kwHc7"
      },
      "source": [
        "scores = [[] for _ in range(3)]\n",
        "def classification_df_by_best_vectorizers(vectorizer, index, classifier=clf, X_train=X_train_preprocessed, X_test=X_test_preprocessed):\n",
        "    X_train_vectorized = vectorizer.fit_transform(X_train)\n",
        "    classifier.fit(X_train_vectorized, y_train)\n",
        "    X_test_vectorized = vectorizer.transform(X_test)\n",
        "    pred = classifier.predict(X_test_vectorized)\n",
        "    scores[index].append(precision_score(y_test, pred, average='macro'))\n",
        "    scores[index].append(recall_score(y_test, pred, average='macro'))\n",
        "    scores[index].append(f1_score(y_test, pred, average='macro'))\n",
        "    scores[index].append(accuracy_score(y_test, pred))"
      ],
      "execution_count": null,
      "outputs": []
    },
    {
      "cell_type": "code",
      "metadata": {
        "id": "rHyK8k4Qysi8"
      },
      "source": [
        "classification_df_by_best_vectorizers(vectorizer4, 0)\n",
        "classification_df_by_best_vectorizers(tfidf_vectorizer_best, 1)\n",
        "classification_df_by_best_vectorizers(char_vectorizer_best, 2)"
      ],
      "execution_count": null,
      "outputs": []
    },
    {
      "cell_type": "code",
      "metadata": {
        "colab": {
          "base_uri": "https://localhost:8080/",
          "height": 142
        },
        "id": "Pea9-UEN0bt5",
        "outputId": "e2b68434-cf6b-4704-d915-c92c6241040b"
      },
      "source": [
        "comparative_df = pd.DataFrame(scores, columns=['precision', 'recall', 'f1-score', 'accuracy'], \\\n",
        "                              index=['Мешок n-грамм', 'tf-idf', 'Символьные n-граммы'])\n",
        "comparative_df"
      ],
      "execution_count": null,
      "outputs": [
        {
          "output_type": "execute_result",
          "data": {
            "text/html": [
              "<div>\n",
              "<style scoped>\n",
              "    .dataframe tbody tr th:only-of-type {\n",
              "        vertical-align: middle;\n",
              "    }\n",
              "\n",
              "    .dataframe tbody tr th {\n",
              "        vertical-align: top;\n",
              "    }\n",
              "\n",
              "    .dataframe thead th {\n",
              "        text-align: right;\n",
              "    }\n",
              "</style>\n",
              "<table border=\"1\" class=\"dataframe\">\n",
              "  <thead>\n",
              "    <tr style=\"text-align: right;\">\n",
              "      <th></th>\n",
              "      <th>precision</th>\n",
              "      <th>recall</th>\n",
              "      <th>f1-score</th>\n",
              "      <th>accuracy</th>\n",
              "    </tr>\n",
              "  </thead>\n",
              "  <tbody>\n",
              "    <tr>\n",
              "      <th>Мешок n-грамм</th>\n",
              "      <td>0.732981</td>\n",
              "      <td>0.729755</td>\n",
              "      <td>0.731126</td>\n",
              "      <td>0.729529</td>\n",
              "    </tr>\n",
              "    <tr>\n",
              "      <th>tf-idf</th>\n",
              "      <td>0.733012</td>\n",
              "      <td>0.723039</td>\n",
              "      <td>0.724792</td>\n",
              "      <td>0.723010</td>\n",
              "    </tr>\n",
              "    <tr>\n",
              "      <th>Символьные n-граммы</th>\n",
              "      <td>0.709521</td>\n",
              "      <td>0.699539</td>\n",
              "      <td>0.701733</td>\n",
              "      <td>0.699493</td>\n",
              "    </tr>\n",
              "  </tbody>\n",
              "</table>\n",
              "</div>"
            ],
            "text/plain": [
              "                     precision    recall  f1-score  accuracy\n",
              "Мешок n-грамм         0.732981  0.729755  0.731126  0.729529\n",
              "tf-idf                0.733012  0.723039  0.724792  0.723010\n",
              "Символьные n-граммы   0.709521  0.699539  0.701733  0.699493"
            ]
          },
          "metadata": {
            "tags": []
          },
          "execution_count": 95
        }
      ]
    }
  ]
}